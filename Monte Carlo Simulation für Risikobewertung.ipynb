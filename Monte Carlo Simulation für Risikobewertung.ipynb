{
 "cells": [
  {
   "cell_type": "markdown",
   "metadata": {
    "slideshow": {
     "slide_type": "slide"
    }
   },
   "source": [
    "# Monte Carlo Simulation für Risikobewertung "
   ]
  },
  {
   "cell_type": "markdown",
   "metadata": {
    "slideshow": {
     "slide_type": "subslide"
    }
   },
   "source": [
    "## Risikobewertung im Projektmanagement\n",
    "\n",
    "Wie sicher sind Sie sich das der Terminplan funktioniert? - Diese Aussage wird im Alltag häufig gestellt und kann bloß mit Schwierigkeit beantwortet werden. Folgend ein kleiner Exkurs wie Sie zukünftig diese Frage beantworten können\n",
    "\n",
    "In jedem Projekt treffen eine Vielzahl von Einzelschritten mit unterschiedlichen Risiken aufeinander. Während im einfachsten Fall einzelne Prozesse sequenziell aufeinanderfolgen sind in komplexen Projekten eine Vielzahl von Abhängigkeiten und paralleln Pfaden vorhanden. \n",
    "Während häufig für die Einzelprozesse eine konkrete Risikobewertung von Experten dargestellt werden kann ist die Risikobewertung mit klassichem Projektmanagement in den vernetzten Prozessen häufig bloß als best- und worst-case darstellbar.\n",
    "Die Monte Carlo Simulation bietet hier ein Werkzeug zur Risikobewertung von vernetzten Prozessen auf Basis der Risikoabschätzungen der Einzelschritte\n",
    "\n",
    "## Monte Carlo Simulation\n",
    "\n",
    "Die Monte-Carlo-Simulation als stochastiches Mittel beschreibt ein Verfahren von bei dem eine sehr große Zahl gleichartiger Zufallsexperimente die Basis darstellt. "
   ]
  },
  {
   "cell_type": "code",
   "execution_count": 5,
   "metadata": {
    "slideshow": {
     "slide_type": "skip"
    }
   },
   "outputs": [],
   "source": [
    "# Input libaries\n",
    "import numpy as np\n",
    "import matplotlib.pyplot as plt\n",
    "import pandas as pd\n",
    "import plotly.figure_factory as ff\n",
    "import seaborn as sb\n",
    "%matplotlib inline\n"
   ]
  },
  {
   "cell_type": "markdown",
   "metadata": {
    "slideshow": {
     "slide_type": "slide"
    }
   },
   "source": [
    "#### 1. Fall: Risiko-Bewertung eines Schrittes\n",
    "\n",
    "Fallbeispiel: In der Produktentwicklung wird ein Prozess abgeschätzt mit \n",
    "- Durchlaufzeit 3 Tage mit 70% Wahrscheinlichkeit\n",
    "- Durchlaufzeit 2 Tage mit 10% Wahrscheinlichkeit\n",
    "- Durchlaufzeit 4 Tage mit 20% Wahrscheinlichkeit"
   ]
  },
  {
   "cell_type": "code",
   "execution_count": null,
   "metadata": {
    "slideshow": {
     "slide_type": "subslide"
    }
   },
   "outputs": [],
   "source": []
  },
  {
   "cell_type": "code",
   "execution_count": 33,
   "metadata": {
    "slideshow": {
     "slide_type": "subslide"
    }
   },
   "outputs": [
    {
     "data": {
      "text/plain": [
       "Text(0.5, 0, 'Tage')"
      ]
     },
     "execution_count": 33,
     "metadata": {},
     "output_type": "execute_result"
    },
    {
     "data": {
      "image/png": "[encoded data removed]",
      "text/plain": [
       "<Figure size 432x288 with 1 Axes>"
      ]
     },
     "metadata": {
      "needs_background": "light"
     },
     "output_type": "display_data"
    }
   ],
   "source": [
    "def task1_days() -> int:\n",
    "    u = np.random.uniform()\n",
    "    if u < 0.7: return 3\n",
    "    if u < 0.8: return 2\n",
    "    return 4\n",
    "\n",
    "N = 10000\n",
    "list=[]\n",
    "sim = np.zeros(N, dtype=int)\n",
    "for i in range(N):\n",
    "    sim[i] = task1_days()\n",
    "    \n",
    "plt.plot(np.bincount(sim))\n",
    "plt.title(\"Verteilung der Tages-Werte\", weight=\"bold\")\n",
    "plt.ylabel('Anzahl Ergebnisse')\n",
    "plt.xlabel('Tage')"
   ]
  },
  {
   "cell_type": "markdown",
   "metadata": {
    "slideshow": {
     "slide_type": "subslide"
    }
   },
   "source": [
    "##### Was ist passiert\n",
    "\n",
    "Das Programm simuliert hier N-mal (d.h. 10.000x) den Task 1 - und 7000x wird der Wert \"3 Tage\" zurückgegeben (also 70% von 10.000 Durchläufen).\n",
    "\n",
    "Oder gefragt welche Durchlaufzeit ergibt sich bei 70%-Sicherheit?"
   ]
  },
  {
   "cell_type": "code",
   "execution_count": 36,
   "metadata": {},
   "outputs": [
    {
     "data": {
      "text/plain": [
       "Text(0, 0.5, 'Tage')"
      ]
     },
     "execution_count": 36,
     "metadata": {},
     "output_type": "execute_result"
    },
    {
     "data": {
      "image/png": "[encoded data removed]",
      "text/plain": [
       "<Figure size 720x288 with 1 Axes>"
      ]
     },
     "metadata": {
      "needs_background": "light"
     },
     "output_type": "display_data"
    }
   ],
   "source": [
    "list=[]\n",
    "for i in range (0,110,10):\n",
    "    list.append(i)\n",
    "\n",
    "\n",
    "prob=pd.DataFrame(columns=['Wahrscheinlichkeit','Tage'],index=list )\n",
    "\n",
    "for i in range (0,110,10):\n",
    "    prob.at[i,'Wahrscheinlichkeit']=str(i)+'%'\n",
    "    prob.at[i,'Tage']=np.percentile(sim,i)\n",
    "    \n",
    "fig = plt.figure(figsize=(10, 4)) \n",
    "sb.set_palette(\"hls\", 7)\n",
    "ax=fig.add_subplot(111)\n",
    "ax.set_title('Wahrscheinlichkeit kombiniert', fontsize=12)\n",
    "sb.barplot(x=prob.index, y=prob['Tage'])\n",
    "plt.xlabel('Wahrscheinlichkeit in %', fontsize=12)\n",
    "plt.ylabel('Tage', fontsize=12)"
   ]
  },
  {
   "cell_type": "markdown",
   "metadata": {
    "slideshow": {
     "slide_type": "slide"
    }
   },
   "source": [
    "#### 2. Fall: Risiko-Bewertung mehrer sequenzieller Schritte\n",
    "\n",
    "Jetzt überlagern wir zwei Prozesse sequenziell - und können kaum ohne komplexe Hilfsmittel die Sicherheiten angeben:\n",
    "\n",
    "Fallbeispiel: \n",
    "\n",
    "Prozess 1\n",
    "- Durchlaufzeit 3 Tage mit 70% Wahrscheinlichkeit\n",
    "- Durchlaufzeit 2 Tage mit 10% Wahrscheinlichkeit\n",
    "- Durchlaufzeit 4 Tage mit 20% Wahrscheinlichkeit\n",
    "\n",
    "Prozess 2\n",
    "- Durchlaufzeit 4 Tage mit 50% Wahrscheinlichkeit\n",
    "- Durchlaufzeit 10 Tage mit 10% Wahrscheinlichkeit\n",
    "- Durchlaufzeit 3 Tage mit 40% Wahrscheinlichkeit"
   ]
  },
  {
   "cell_type": "code",
   "execution_count": 12,
   "metadata": {
    "slideshow": {
     "slide_type": "subslide"
    }
   },
   "outputs": [],
   "source": [
    "def task1_days() -> int:\n",
    "    u = np.random.uniform()\n",
    "    if u < 0.7: return 3\n",
    "    if u < 0.8: return 2\n",
    "    return 4\n",
    "\n",
    "def task2_days() -> int:\n",
    "    u = np.random.uniform()\n",
    "    if u < 0.5: return 4\n",
    "    if u < 0.6: return 10\n",
    "    return 3\n",
    "\n",
    "def project_duration() -> int:\n",
    "    return task1_days() + task2_days()\n",
    "\n",
    "N = 10000\n",
    "sim = np.zeros(N, dtype=int)\n",
    "for i in range(N):\n",
    "    sim[i] = project_duration()\n",
    "    \n"
   ]
  },
  {
   "cell_type": "code",
   "execution_count": 14,
   "metadata": {
    "slideshow": {
     "slide_type": "subslide"
    }
   },
   "outputs": [
    {
     "data": {
      "text/plain": [
       "Text(0, 0.5, 'Tage')"
      ]
     },
     "execution_count": 14,
     "metadata": {},
     "output_type": "execute_result"
    },
    {
     "data": {
      "image/png": "[encoded data removed]",
      "text/plain": [
       "<Figure size 720x288 with 1 Axes>"
      ]
     },
     "metadata": {
      "needs_background": "light"
     },
     "output_type": "display_data"
    }
   ],
   "source": [
    "list=[]\n",
    "for i in range (0,110,10):\n",
    "    list.append(i)\n",
    "\n",
    "\n",
    "prob2=pd.DataFrame(columns=['Wahrscheinlichkeit','Tage'],index=list )\n",
    "\n",
    "for i in range (0,110,10):\n",
    "    prob2.at[i,'Wahrscheinlichkeit']=str(i)+'%'\n",
    "    prob2.at[i,'Tage']=np.percentile(sim,i)\n",
    "    \n",
    "\n",
    "fig = plt.figure(figsize=(10, 4)) \n",
    "sb.set_palette(\"hls\", 9)\n",
    "ax=fig.add_subplot(111)\n",
    "ax.set_title('Wahrscheinlichkeit kombiniert', fontsize=12)\n",
    "sb.barplot(x=prob2.index, y=prob2['Tage'])\n",
    "plt.xlabel('Wahrscheinlichkeit in %', fontsize=12)\n",
    "plt.ylabel('Tage', fontsize=12)"
   ]
  },
  {
   "cell_type": "markdown",
   "metadata": {
    "slideshow": {
     "slide_type": "subslide"
    }
   },
   "source": [
    "Die Wahrscheinlichkeiten manuell anzugeben wäre bereits bei 2 Prozessen sehr aufwendig"
   ]
  },
  {
   "cell_type": "markdown",
   "metadata": {
    "slideshow": {
     "slide_type": "slide"
    }
   },
   "source": [
    "#### 3. Fall: Risiko-Bewertung mit parallelen Vorgängen\n",
    "\n",
    "\n",
    "Fallbeispiel: \n",
    "\n",
    "Prozess 1\n",
    "- Durchlaufzeit 3 Tage mit 70% Wahrscheinlichkeit\n",
    "- Durchlaufzeit 2 Tage mit 10% Wahrscheinlichkeit\n",
    "- Durchlaufzeit 4 Tage mit 20% Wahrscheinlichkeit\n",
    "\n",
    "Prozess 2\n",
    "- Durchlaufzeit 4 Tage mit 50% Wahrscheinlichkeit\n",
    "- Durchlaufzeit 10 Tage mit 10% Wahrscheinlichkeit\n",
    "- Durchlaufzeit 3 Tage mit 40% Wahrscheinlichkeit\n",
    "\n",
    "Prozess 3 - Paraller Prozess zu 2\n",
    "- Durchlaufzeit 5 Tage mit 70% Wahrscheinlichkeit\n",
    "- Durchlaufzeit 2 Tage mit 10% Wahrscheinlichkeit\n",
    "- Durchlaufzeit 9 Tage mit 20% Wahrscheinlichkeit"
   ]
  },
  {
   "cell_type": "markdown",
   "metadata": {
    "slideshow": {
     "slide_type": "subslide"
    }
   },
   "source": [
    "Bereits in der Darstellung des Gant-Charts wird die Komplexität und Abhängigkeiten der Prozesse sichtbar. Eine bewertbare Aussage ist hier maximal vor Best-/ und Worst-case-Annahmen möglich. \n",
    "Die Statisik ergibt folgendes:"
   ]
  },
  {
   "cell_type": "code",
   "execution_count": 18,
   "metadata": {
    "slideshow": {
     "slide_type": "subslide"
    }
   },
   "outputs": [],
   "source": [
    "def task1_days() -> int:\n",
    "    u = np.random.uniform()\n",
    "    if u < 0.7: return 3\n",
    "    if u < 0.8: return 2\n",
    "    return 4\n",
    "\n",
    "def task2_days() -> int:\n",
    "    u = np.random.uniform()\n",
    "    if u < 0.5: return 4\n",
    "    if u < 0.6: return 10\n",
    "    return 3\n",
    "\n",
    "def task3_days() -> int:\n",
    "    u = np.random.uniform()\n",
    "    if u < 0.7: return 5\n",
    "    if u < 0.8: return 2\n",
    "    return 9\n",
    "\n",
    "def project_duration() -> int:\n",
    "    return task1_days()+max(task2_days(),task3_days())\n",
    "\n",
    "N = 10000\n",
    "sim = np.zeros(N, dtype=int)\n",
    "sim1 = np.zeros(N, dtype=int)\n",
    "sim2 = np.zeros(N, dtype=int)\n",
    "sim3 = np.zeros(N, dtype=int)\n",
    "for i in range(N):\n",
    "    sim[i] = project_duration()\n",
    "    sim1[i] = task1_days()\n",
    "    sim2[i] = task2_days()\n",
    "    sim3[i] = task3_days()\n",
    "    \n"
   ]
  },
  {
   "cell_type": "code",
   "execution_count": 19,
   "metadata": {
    "slideshow": {
     "slide_type": "subslide"
    }
   },
   "outputs": [],
   "source": [
    "list=[]\n",
    "for i in range (0,110,10):\n",
    "    list.append(i)\n",
    "\n",
    "\n",
    "prob_gesamt=pd.DataFrame(columns=['Wahrscheinlichkeit','Gesamt_Tage','Tage_Task1','Tage_Task2','Tage_Task3'],index=list )\n",
    "\n",
    "\n",
    "\n",
    "\n",
    "for i in range (0,110,10):\n",
    "    prob_gesamt.at[i,'Wahrscheinlichkeit']=str(i)+'%'\n",
    "    prob_gesamt.at[i,'Gesamt_Tage']=np.percentile(sim,i)\n",
    "    prob_gesamt.at[i,'Tage_Task1']=np.percentile(sim1,i)\n",
    "    prob_gesamt.at[i,'Tage_Task2']=np.percentile(sim2,i)\n",
    "    prob_gesamt.at[i,'Tage_Task3']=np.percentile(sim3,i)\n",
    "    \n",
    "    \n"
   ]
  },
  {
   "cell_type": "code",
   "execution_count": 29,
   "metadata": {},
   "outputs": [
    {
     "data": {
      "text/plain": [
       "Text(0, 0.5, 'Tage')"
      ]
     },
     "execution_count": 29,
     "metadata": {},
     "output_type": "execute_result"
    },
    {
     "data": {
      "image/png": "[encoded data removed]",
      "text/plain": [
       "<Figure size 720x288 with 1 Axes>"
      ]
     },
     "metadata": {
      "needs_background": "light"
     },
     "output_type": "display_data"
    }
   ],
   "source": [
    "fig = plt.figure(figsize=(10, 4)) \n",
    "sb.set_palette(\"hls\", 9)\n",
    "ax=fig.add_subplot(111)\n",
    "ax.set_title('Wahrscheinlichkeit kombiniert', fontsize=12)\n",
    "sb.barplot(x=prob_gesamt.index, y=prob_gesamt['Gesamt_Tage'])\n",
    "plt.xlabel('Wahrscheinlichkeit in %', fontsize=12)\n",
    "plt.ylabel('Tage', fontsize=12)"
   ]
  },
  {
   "cell_type": "code",
   "execution_count": 32,
   "metadata": {},
   "outputs": [
    {
     "data": {
      "text/html": [
       "<div>\n",
       "<style scoped>\n",
       "    .dataframe tbody tr th:only-of-type {\n",
       "        vertical-align: middle;\n",
       "    }\n",
       "\n",
       "    .dataframe tbody tr th {\n",
       "        vertical-align: top;\n",
       "    }\n",
       "\n",
       "    .dataframe thead th {\n",
       "        text-align: right;\n",
       "    }\n",
       "</style>\n",
       "<table border=\"1\" class=\"dataframe\">\n",
       "  <thead>\n",
       "    <tr style=\"text-align: right;\">\n",
       "      <th></th>\n",
       "      <th>Gesamt_Tage</th>\n",
       "      <th>Tage_Task1</th>\n",
       "      <th>Tage_Task2</th>\n",
       "      <th>Tage_Task3</th>\n",
       "    </tr>\n",
       "    <tr>\n",
       "      <th>Wahrscheinlichkeit</th>\n",
       "      <th></th>\n",
       "      <th></th>\n",
       "      <th></th>\n",
       "      <th></th>\n",
       "    </tr>\n",
       "  </thead>\n",
       "  <tbody>\n",
       "    <tr>\n",
       "      <td>0%</td>\n",
       "      <td>5</td>\n",
       "      <td>2</td>\n",
       "      <td>3</td>\n",
       "      <td>2</td>\n",
       "    </tr>\n",
       "    <tr>\n",
       "      <td>10%</td>\n",
       "      <td>7</td>\n",
       "      <td>3</td>\n",
       "      <td>3</td>\n",
       "      <td>5</td>\n",
       "    </tr>\n",
       "    <tr>\n",
       "      <td>20%</td>\n",
       "      <td>8</td>\n",
       "      <td>3</td>\n",
       "      <td>3</td>\n",
       "      <td>5</td>\n",
       "    </tr>\n",
       "    <tr>\n",
       "      <td>30%</td>\n",
       "      <td>8</td>\n",
       "      <td>3</td>\n",
       "      <td>3</td>\n",
       "      <td>5</td>\n",
       "    </tr>\n",
       "    <tr>\n",
       "      <td>40%</td>\n",
       "      <td>8</td>\n",
       "      <td>3</td>\n",
       "      <td>4</td>\n",
       "      <td>5</td>\n",
       "    </tr>\n",
       "    <tr>\n",
       "      <td>50%</td>\n",
       "      <td>8</td>\n",
       "      <td>3</td>\n",
       "      <td>4</td>\n",
       "      <td>5</td>\n",
       "    </tr>\n",
       "    <tr>\n",
       "      <td>60%</td>\n",
       "      <td>8</td>\n",
       "      <td>3</td>\n",
       "      <td>4</td>\n",
       "      <td>5</td>\n",
       "    </tr>\n",
       "    <tr>\n",
       "      <td>70%</td>\n",
       "      <td>9</td>\n",
       "      <td>3</td>\n",
       "      <td>4</td>\n",
       "      <td>5</td>\n",
       "    </tr>\n",
       "    <tr>\n",
       "      <td>80%</td>\n",
       "      <td>12</td>\n",
       "      <td>4</td>\n",
       "      <td>4</td>\n",
       "      <td>9</td>\n",
       "    </tr>\n",
       "    <tr>\n",
       "      <td>90%</td>\n",
       "      <td>13</td>\n",
       "      <td>4</td>\n",
       "      <td>4</td>\n",
       "      <td>9</td>\n",
       "    </tr>\n",
       "    <tr>\n",
       "      <td>100%</td>\n",
       "      <td>14</td>\n",
       "      <td>4</td>\n",
       "      <td>10</td>\n",
       "      <td>9</td>\n",
       "    </tr>\n",
       "  </tbody>\n",
       "</table>\n",
       "</div>"
      ],
      "text/plain": [
       "                   Gesamt_Tage Tage_Task1 Tage_Task2 Tage_Task3\n",
       "Wahrscheinlichkeit                                             \n",
       "0%                           5          2          3          2\n",
       "10%                          7          3          3          5\n",
       "20%                          8          3          3          5\n",
       "30%                          8          3          3          5\n",
       "40%                          8          3          4          5\n",
       "50%                          8          3          4          5\n",
       "60%                          8          3          4          5\n",
       "70%                          9          3          4          5\n",
       "80%                         12          4          4          9\n",
       "90%                         13          4          4          9\n",
       "100%                        14          4         10          9"
      ]
     },
     "execution_count": 32,
     "metadata": {},
     "output_type": "execute_result"
    }
   ],
   "source": [
    "prob_gesamt=prob_gesamt.set_index('Wahrscheinlichkeit')\n",
    "prob_gesamt"
   ]
  },
  {
   "cell_type": "markdown",
   "metadata": {
    "slideshow": {
     "slide_type": "subslide"
    }
   },
   "source": [
    "Jetzt ist eine quantitative Aussage bzgl. der Zeiträume und Sicherheiten möglich. Diese Technik lässt sich beliebig auch bei komplexeren Sachverhalten anwenden"
   ]
  },
  {
   "cell_type": "code",
   "execution_count": null,
   "metadata": {},
   "outputs": [],
   "source": []
  }
 ],
 "metadata": {
  "celltoolbar": "Raw Cell Format",
  "kernelspec": {
   "display_name": "Python 3",
   "language": "python",
   "name": "python3"
  },
  "language_info": {
   "codemirror_mode": {
    "name": "ipython",
    "version": 3
   },
   "file_extension": ".py",
   "mimetype": "text/x-python",
   "name": "python",
   "nbconvert_exporter": "python",
   "pygments_lexer": "ipython3",
   "version": "3.7.4"
  }
 },
 "nbformat": 4,
 "nbformat_minor": 2
}
