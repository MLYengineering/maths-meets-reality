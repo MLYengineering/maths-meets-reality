{
 "cells": [
  {
   "cell_type": "markdown",
   "metadata": {},
   "source": [
    "# Das Rucksack-Problem für die richtige Priorisierung"
   ]
  },
  {
   "cell_type": "markdown",
   "metadata": {},
   "source": [
    "## Richtig Priorisieren\n",
    "\n",
    "Bei einem Engpass stellt sich häufig die Frage nach einer Priorisierung. Das kann z.B. bedeuten wir haben verschiedene Produkte - jedes dieser Produkte hat einen unterschiedlichen Gewinn wie auch eine unterschiedliche Fertigungszeit - und eine feste verfügbare Zeit. Mathematisch ist das ein bekanntes Problem - das Rucksackproblem\n",
    "\n",
    "## Dynamic programming \n",
    "\n",
    "Zur Lösung dieses Problems gibt es verschiedene Ansätze - einer davon ist dynamic programming. Zur genauen Verfahrensbeschreibung \"dynamic programming knapsack\" googlen. "
   ]
  },
  {
   "cell_type": "markdown",
   "metadata": {},
   "source": [
    "Eingabe\n",
    "z.B. nehmen wir 3 Objekte mit einer Fertigungszeit von je 4sec, 5sec, 2sec"
   ]
  },
  {
   "cell_type": "code",
   "execution_count": 2,
   "metadata": {},
   "outputs": [],
   "source": [
    "itemWeight = [4,5,2]"
   ]
  },
  {
   "cell_type": "markdown",
   "metadata": {},
   "source": [
    "jedes Objekt hat einen Wert von je 5€, 6€, 3€"
   ]
  },
  {
   "cell_type": "code",
   "execution_count": 3,
   "metadata": {},
   "outputs": [],
   "source": [
    "itemValues = [5,6,3]"
   ]
  },
  {
   "cell_type": "markdown",
   "metadata": {},
   "source": [
    "die maximale Kapazität wird jetzt festgelegt"
   ]
  },
  {
   "cell_type": "code",
   "execution_count": 4,
   "metadata": {},
   "outputs": [],
   "source": [
    "capacity=9"
   ]
  },
  {
   "cell_type": "code",
   "execution_count": 7,
   "metadata": {},
   "outputs": [
    {
     "name": "stdout",
     "output_type": "stream",
     "text": [
      "Maximales Ergebnis ist  11\n",
      "Nehme Objekt Nummer:  2\n",
      "Nehme Objekt Nummer:  1\n"
     ]
    }
   ],
   "source": [
    "def backpack(maxWeight,items):\n",
    "    matrix = [[0 for col in range(maxWeight+1)] for row in range(len(items[0]))]\n",
    "    for row in range(len(items[0])): \n",
    "       \n",
    "        for col in range(maxWeight+1):\n",
    "            if items[0][row] > col:  \n",
    "                matrix[row][col] = matrix[row-1][col] \n",
    "            else:\n",
    "                \n",
    "                matrix[row][col] = max(matrix[row-1][col], matrix[row-1][col-items[0][row]]+ items[1][row])\n",
    "\n",
    "    packed = []\n",
    "    col = maxWeight\n",
    "   \n",
    "    for row in range(len(items[0])-1,-1,-1):\n",
    "        if row == 0 and matrix[row][col] != 0:\n",
    "            packed.append(row+1)\n",
    "        if matrix[row][col] != matrix[row-1][col]:\n",
    "            packed.append(row+1)\n",
    "            col -= items[0][row]\n",
    "    print('Maximales Ergebnis ist ', matrix[len(items[0])-1][maxWeight])\n",
    "    for i in packed:\n",
    "        print('Nehme Objekt Nummer: ',i)\n",
    "    \n",
    "    \n",
    "\n",
    "items = [itemWeight,itemValues]\n",
    "backpack(capacity,items)"
   ]
  }
 ],
 "metadata": {
  "kernelspec": {
   "display_name": "Python 3",
   "language": "python",
   "name": "python3"
  },
  "language_info": {
   "codemirror_mode": {
    "name": "ipython",
    "version": 3
   },
   "file_extension": ".py",
   "mimetype": "text/x-python",
   "name": "python",
   "nbconvert_exporter": "python",
   "pygments_lexer": "ipython3",
   "version": "3.7.4"
  }
 },
 "nbformat": 4,
 "nbformat_minor": 2
}
